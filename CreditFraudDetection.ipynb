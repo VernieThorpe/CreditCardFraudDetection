{
 "cells": [
  {
   "cell_type": "code",
   "execution_count": 1,
   "metadata": {},
   "outputs": [],
   "source": [
    "# IMPORTING PACKAGES\n",
    "\n",
    "import pandas as pd # data processing\n",
    "import numpy as np # working with arrays\n",
    "import matplotlib.pyplot as plt # visualization\n",
    "#from termcolor import colored as cl # text customization\n",
    "import itertools # advanced tools\n",
    "\n",
    "from sklearn.preprocessing import StandardScaler # data normalization\n",
    "from sklearn.model_selection import train_test_split # data split\n",
    "from sklearn.tree import DecisionTreeClassifier # Decision tree algorithm\n",
    "from sklearn.neighbors import KNeighborsClassifier # KNN algorithm\n",
    "from sklearn.linear_model import LogisticRegression # Logistic regression algorithm\n",
    "from sklearn.svm import SVC # SVM algorithm\n",
    "from sklearn.ensemble import RandomForestClassifier # Random forest tree algorithm\n",
    "#from xgboost import XGBClassifier # XGBoost algorithm\n",
    "\n",
    "from sklearn.metrics import confusion_matrix # evaluation metric\n",
    "from sklearn.metrics import accuracy_score # evaluation metric\n",
    "from sklearn.metrics import f1_score # evaluation metric"
   ]
  },
  {
   "cell_type": "code",
   "execution_count": 2,
   "metadata": {},
   "outputs": [
    {
     "name": "stdout",
     "output_type": "stream",
     "text": [
      "         V1        V2        V3        V4        V5        V6        V7  \\\n",
      "0 -1.359807 -0.072781  2.536347  1.378155 -0.338321  0.462388  0.239599   \n",
      "1  1.191857  0.266151  0.166480  0.448154  0.060018 -0.082361 -0.078803   \n",
      "2 -1.358354 -1.340163  1.773209  0.379780 -0.503198  1.800499  0.791461   \n",
      "3 -0.966272 -0.185226  1.792993 -0.863291 -0.010309  1.247203  0.237609   \n",
      "4 -1.158233  0.877737  1.548718  0.403034 -0.407193  0.095921  0.592941   \n",
      "\n",
      "         V8        V9       V10  ...       V21       V22       V23       V24  \\\n",
      "0  0.098698  0.363787  0.090794  ... -0.018307  0.277838 -0.110474  0.066928   \n",
      "1  0.085102 -0.255425 -0.166974  ... -0.225775 -0.638672  0.101288 -0.339846   \n",
      "2  0.247676 -1.514654  0.207643  ...  0.247998  0.771679  0.909412 -0.689281   \n",
      "3  0.377436 -1.387024 -0.054952  ... -0.108300  0.005274 -0.190321 -1.175575   \n",
      "4 -0.270533  0.817739  0.753074  ... -0.009431  0.798278 -0.137458  0.141267   \n",
      "\n",
      "        V25       V26       V27       V28  Amount  Class  \n",
      "0  0.128539 -0.189115  0.133558 -0.021053  149.62      0  \n",
      "1  0.167170  0.125895 -0.008983  0.014724    2.69      0  \n",
      "2 -0.327642 -0.139097 -0.055353 -0.059752  378.66      0  \n",
      "3  0.647376 -0.221929  0.062723  0.061458  123.50      0  \n",
      "4 -0.206010  0.502292  0.219422  0.215153   69.99      0  \n",
      "\n",
      "[5 rows x 30 columns]\n"
     ]
    }
   ],
   "source": [
    "# IMPORTING DATA\n",
    "\n",
    "df = pd.read_csv('creditcard.csv')\n",
    "df.drop('Time', axis = 1, inplace = True)\n",
    "\n",
    "print(df.head())"
   ]
  },
  {
   "cell_type": "code",
   "execution_count": 3,
   "metadata": {},
   "outputs": [
    {
     "name": "stdout",
     "output_type": "stream",
     "text": [
      "CASE COUNT\n",
      "Total number of cases are 284807\n",
      "Number of Non-fraud cases are 284315\n",
      "Number of Non-fraud cases are 492\n",
      "Percentage of fraud cases is 0.17\n"
     ]
    }
   ],
   "source": [
    "cases = len(df)\n",
    "nonfraud_count = len(df[df.Class == 0])\n",
    "fraud_count = len(df[df.Class == 1])\n",
    "fraud_percentage = round(fraud_count/nonfraud_count*100, 2)\n",
    "\n",
    "print('CASE COUNT')\n",
    "print('Total number of cases are {}'.format(cases))\n",
    "print('Number of Non-fraud cases are {}'.format(nonfraud_count))\n",
    "print('Number of Non-fraud cases are {}'.format(fraud_count))\n",
    "print('Percentage of fraud cases is {}'.format(fraud_percentage))"
   ]
  },
  {
   "cell_type": "code",
   "execution_count": 4,
   "metadata": {},
   "outputs": [
    {
     "name": "stdout",
     "output_type": "stream",
     "text": [
      "CASE AMOUNT STATISTICS\n",
      "--------------------------------------------\n",
      "NON-FRAUD CASE AMOUNT STATS\n",
      "count    284315.000000\n",
      "mean         88.291022\n",
      "std         250.105092\n",
      "min           0.000000\n",
      "25%           5.650000\n",
      "50%          22.000000\n",
      "75%          77.050000\n",
      "max       25691.160000\n",
      "Name: Amount, dtype: float64\n",
      "--------------------------------------------\n",
      "FRAUD CASE AMOUNT STATS\n",
      "count     492.000000\n",
      "mean      122.211321\n",
      "std       256.683288\n",
      "min         0.000000\n",
      "25%         1.000000\n",
      "50%         9.250000\n",
      "75%       105.890000\n",
      "max      2125.870000\n",
      "Name: Amount, dtype: float64\n",
      "--------------------------------------------\n"
     ]
    }
   ],
   "source": [
    "nonfraud_cases = df[df.Class == 0]\n",
    "fraud_cases = df[df.Class == 1]\n",
    "\n",
    "print('CASE AMOUNT STATISTICS')\n",
    "print('--------------------------------------------')\n",
    "print('NON-FRAUD CASE AMOUNT STATS')\n",
    "print(nonfraud_cases.Amount.describe())\n",
    "print('--------------------------------------------')\n",
    "print('FRAUD CASE AMOUNT STATS')\n",
    "print(fraud_cases.Amount.describe())\n",
    "print('--------------------------------------------')"
   ]
  },
  {
   "cell_type": "code",
   "execution_count": 5,
   "metadata": {},
   "outputs": [
    {
     "name": "stdout",
     "output_type": "stream",
     "text": [
      "0    0.244964\n",
      "1   -0.342475\n",
      "2    1.160686\n",
      "3    0.140534\n",
      "4   -0.073403\n",
      "5   -0.338556\n",
      "6   -0.333279\n",
      "7   -0.190107\n",
      "8    0.019392\n",
      "9   -0.338516\n",
      "Name: Amount, dtype: float64\n"
     ]
    }
   ],
   "source": [
    "sc = StandardScaler()\n",
    "amount = df['Amount'].values\n",
    "\n",
    "df['Amount'] = sc.fit_transform(amount.reshape(-1, 1))\n",
    "\n",
    "print(df['Amount'].head(10))"
   ]
  },
  {
   "cell_type": "code",
   "execution_count": 6,
   "metadata": {},
   "outputs": [
    {
     "name": "stdout",
     "output_type": "stream",
     "text": [
      "X_train samples :  [[-1.11504743  1.03558276  0.80071244 -1.06039825  0.03262117  0.85342216\n",
      "  -0.61424348 -3.23116112  1.53994798 -0.81690879 -1.30559201  0.1081772\n",
      "  -0.85960958 -0.07193421  0.90665563 -1.72092961  0.79785322 -0.0067594\n",
      "   1.95677806 -0.64489556  3.02038533 -0.53961798  0.03315649 -0.77494577\n",
      "   0.10586781 -0.43085348  0.22973694 -0.0705913  -0.30145418]]\n",
      "X_test samples :  [[-0.32333357  1.05745525 -0.04834115 -0.60720431  1.25982115 -0.09176072\n",
      "   1.1591015  -0.12433461 -0.17463954 -1.64440065 -1.11886302  0.20264731\n",
      "   1.14596495 -1.80235956 -0.24717793 -0.06094535  0.84660574  0.37945439\n",
      "   0.84726224  0.18640942 -0.20709827 -0.43389027 -0.26161328 -0.04665061\n",
      "   0.2115123   0.00829721  0.10849443  0.16113917 -0.19330595]]\n",
      "y_train samples :  [0 0 0 0 0 0 0 0 0 0 0 0 0 0 0 0 0 0 0 0]\n",
      "y_test samples :  [0 0 0 0 0 0 0 0 0 0 0 0 0 0 0 0 0 0 0 0]\n"
     ]
    }
   ],
   "source": [
    "# DATA SPLIT\n",
    "\n",
    "X = df.drop('Class', axis = 1).values\n",
    "y = df['Class'].values\n",
    "\n",
    "X_train, X_test, y_train, y_test = train_test_split(X, y, test_size = 0.2, random_state = 0)\n",
    "\n",
    "print('X_train samples : ', X_train[:1])\n",
    "print('X_test samples : ', X_test[0:1])\n",
    "print('y_train samples : ', y_train[0:20])\n",
    "print('y_test samples : ', y_test[0:20])"
   ]
  },
  {
   "cell_type": "code",
   "execution_count": 8,
   "metadata": {},
   "outputs": [],
   "source": [
    "# MODELING\n",
    "\n",
    "# 1. Decision Tree\n",
    "\n",
    "tree_model = DecisionTreeClassifier(max_depth = 4, criterion = 'entropy')\n",
    "tree_model.fit(X_train, y_train)\n",
    "tree_yhat = tree_model.predict(X_test)"
   ]
  },
  {
   "cell_type": "code",
   "execution_count": 9,
   "metadata": {},
   "outputs": [],
   "source": [
    "# 2. K-Nearest Neighbors\n",
    "\n",
    "n = 5\n",
    "\n",
    "knn = KNeighborsClassifier(n_neighbors = n)\n",
    "knn.fit(X_train, y_train)\n",
    "knn_yhat = knn.predict(X_test)"
   ]
  },
  {
   "cell_type": "code",
   "execution_count": 10,
   "metadata": {},
   "outputs": [],
   "source": [
    "# 3. Logistic Regression\n",
    "\n",
    "lr = LogisticRegression()\n",
    "lr.fit(X_train, y_train)\n",
    "lr_yhat = lr.predict(X_test)"
   ]
  },
  {
   "cell_type": "code",
   "execution_count": 11,
   "metadata": {},
   "outputs": [],
   "source": [
    "# 4. SVM \n",
    "\n",
    "svm = SVC()\n",
    "svm.fit(X_train, y_train)\n",
    "svm_yhat = svm.predict(X_test)"
   ]
  },
  {
   "cell_type": "code",
   "execution_count": 12,
   "metadata": {},
   "outputs": [],
   "source": [
    "# 5. Random Forest Tree\n",
    "\n",
    "rf = RandomForestClassifier(max_depth = 4)\n",
    "rf.fit(X_train, y_train)\n",
    "rf_yhat = rf.predict(X_test)"
   ]
  },
  {
   "cell_type": "code",
   "execution_count": 15,
   "metadata": {},
   "outputs": [
    {
     "name": "stdout",
     "output_type": "stream",
     "text": [
      "ACCURACY SCORE\n",
      "------------------------------------------------------------------------\n",
      "Accuracy score of the Decision Tree model is 0.9993679997191109\n",
      "------------------------------------------------------------------------\n",
      "Accuracy score of the KNN model is 0.9995259997893332\n",
      "------------------------------------------------------------------------\n",
      "Accuracy score of the Logistic Regression model is 0.9991924440855307\n",
      "------------------------------------------------------------------------\n",
      "Accuracy score of the SVM model is 0.9993153330290369\n",
      "------------------------------------------------------------------------\n",
      "Accuracy score of the Random Forest Tree model is 0.9992977774656788\n",
      "------------------------------------------------------------------------\n"
     ]
    }
   ],
   "source": [
    "# 1. Accuracy score\n",
    "\n",
    "print('ACCURACY SCORE')\n",
    "print('------------------------------------------------------------------------')\n",
    "print('Accuracy score of the Decision Tree model is {}'.format(accuracy_score(y_test, tree_yhat)))\n",
    "print('------------------------------------------------------------------------')\n",
    "print('Accuracy score of the KNN model is {}'.format(accuracy_score(y_test, knn_yhat)))\n",
    "print('------------------------------------------------------------------------')\n",
    "print('Accuracy score of the Logistic Regression model is {}'.format(accuracy_score(y_test, lr_yhat)))\n",
    "print('------------------------------------------------------------------------')\n",
    "print('Accuracy score of the SVM model is {}'.format(accuracy_score(y_test, svm_yhat)))\n",
    "print('------------------------------------------------------------------------')\n",
    "print('Accuracy score of the Random Forest Tree model is {}'.format(accuracy_score(y_test, rf_yhat)))\n",
    "print('------------------------------------------------------------------------')"
   ]
  },
  {
   "cell_type": "code",
   "execution_count": 17,
   "metadata": {},
   "outputs": [
    {
     "name": "stdout",
     "output_type": "stream",
     "text": [
      "F1 SCORE\n",
      "------------------------------------------------------------------------\n",
      "F1 score of the Decision Tree model is 0.8105263157894738\n",
      "------------------------------------------------------------------------\n",
      "F1 score of the KNN model is 0.8571428571428572\n",
      "------------------------------------------------------------------------\n",
      "F1 score of the Logistic Regression model is 0.7356321839080459\n",
      "------------------------------------------------------------------------\n",
      "F1 score of the SVM model is 0.7771428571428572\n",
      "------------------------------------------------------------------------\n",
      "F1 score of the Random Forest Tree model is 0.7701149425287357\n",
      "------------------------------------------------------------------------\n"
     ]
    }
   ],
   "source": [
    "# 2. F1 score\n",
    "\n",
    "print('F1 SCORE')\n",
    "print('------------------------------------------------------------------------')\n",
    "print('F1 score of the Decision Tree model is {}'.format(f1_score(y_test, tree_yhat)))\n",
    "print('------------------------------------------------------------------------')\n",
    "print('F1 score of the KNN model is {}'.format(f1_score(y_test, knn_yhat)))\n",
    "print('------------------------------------------------------------------------')\n",
    "print('F1 score of the Logistic Regression model is {}'.format(f1_score(y_test, lr_yhat)))\n",
    "print('------------------------------------------------------------------------')\n",
    "print('F1 score of the SVM model is {}'.format(f1_score(y_test, svm_yhat)))\n",
    "print('------------------------------------------------------------------------')\n",
    "print('F1 score of the Random Forest Tree model is {}'.format(f1_score(y_test, rf_yhat)))\n",
    "print('------------------------------------------------------------------------')"
   ]
  },
  {
   "cell_type": "code",
   "execution_count": 19,
   "metadata": {},
   "outputs": [],
   "source": [
    "# 3. Confusion Matrix\n",
    "\n",
    "# defining the plot function\n",
    "\n",
    "def plot_confusion_matrix(cm, classes, title, normalize = False, cmap = plt.cm.Blues):\n",
    "    title = 'Confusion Matrix of {}'.format(title)\n",
    "    if normalize:\n",
    "        cm = cm.astype(float) / cm.sum(axis=1)[:, np.newaxis]\n",
    "\n",
    "    plt.imshow(cm, interpolation = 'nearest', cmap = cmap)\n",
    "    plt.title(title)\n",
    "    plt.colorbar()\n",
    "    tick_marks = np.arange(len(classes))\n",
    "    plt.xticks(tick_marks, classes, rotation = 45)\n",
    "    plt.yticks(tick_marks, classes)\n",
    "\n",
    "    fmt = '.2f' if normalize else 'd'\n",
    "    thresh = cm.max() / 2.\n",
    "    for i, j in itertools.product(range(cm.shape[0]), range(cm.shape[1])):\n",
    "        plt.text(j, i, format(cm[i, j], fmt),\n",
    "                 horizontalalignment = 'center',\n",
    "                 color = 'white' if cm[i, j] > thresh else 'black')\n",
    "\n",
    "    plt.tight_layout()\n",
    "    plt.ylabel('True label')\n",
    "    plt.xlabel('Predicted label')\n",
    "\n",
    "# Compute confusion matrix for the models\n",
    "\n",
    "tree_matrix = confusion_matrix(y_test, tree_yhat, labels = [0, 1]) # Decision Tree\n",
    "knn_matrix = confusion_matrix(y_test, knn_yhat, labels = [0, 1]) # K-Nearest Neighbors\n",
    "lr_matrix = confusion_matrix(y_test, lr_yhat, labels = [0, 1]) # Logistic Regression\n",
    "svm_matrix = confusion_matrix(y_test, svm_yhat, labels = [0, 1]) # Support Vector Machine\n",
    "rf_matrix = confusion_matrix(y_test, rf_yhat, labels = [0, 1]) # Random Forest Tree\n",
    "\n",
    "# Plot the confusion matrix\n",
    "\n",
    "plt.rcParams['figure.figsize'] = (6, 6)"
   ]
  },
  {
   "cell_type": "code",
   "execution_count": 20,
   "metadata": {},
   "outputs": [
    {
     "data": {
      "image/png": "[encoded data removed]",
      "text/plain": [
       "<Figure size 432x432 with 2 Axes>"
      ]
     },
     "metadata": {
      "needs_background": "light"
     },
     "output_type": "display_data"
    }
   ],
   "source": [
    "# 1. Decision tree\n",
    "\n",
    "tree_cm_plot = plot_confusion_matrix(tree_matrix, \n",
    "                                classes = ['Non-Default(0)','Default(1)'], \n",
    "                                normalize = False, title = 'Decision Tree')\n",
    "plt.savefig('tree_cm_plot.png')\n",
    "plt.show()"
   ]
  },
  {
   "cell_type": "code",
   "execution_count": 21,
   "metadata": {},
   "outputs": [
    {
     "data": {
      "image/png": "[encoded data removed]",
      "text/plain": [
       "<Figure size 432x432 with 2 Axes>"
      ]
     },
     "metadata": {
      "needs_background": "light"
     },
     "output_type": "display_data"
    }
   ],
   "source": [
    "# 2. K-Nearest Neighbors\n",
    "\n",
    "knn_cm_plot = plot_confusion_matrix(knn_matrix, \n",
    "                                classes = ['Non-Default(0)','Default(1)'], \n",
    "                                normalize = False, title = 'KNN')\n",
    "plt.savefig('knn_cm_plot.png')\n",
    "plt.show()"
   ]
  },
  {
   "cell_type": "code",
   "execution_count": 22,
   "metadata": {},
   "outputs": [
    {
     "data": {
      "image/png": "[encoded data removed]",
      "text/plain": [
       "<Figure size 432x432 with 2 Axes>"
      ]
     },
     "metadata": {
      "needs_background": "light"
     },
     "output_type": "display_data"
    }
   ],
   "source": [
    "# 3. Logistic regression\n",
    "\n",
    "lr_cm_plot = plot_confusion_matrix(lr_matrix, \n",
    "                                classes = ['Non-Default(0)','Default(1)'], \n",
    "                                normalize = False, title = 'Logistic Regression')\n",
    "plt.savefig('lr_cm_plot.png')\n",
    "plt.show()"
   ]
  },
  {
   "cell_type": "code",
   "execution_count": 23,
   "metadata": {},
   "outputs": [
    {
     "data": {
      "image/png": "[encoded data removed]",
      "text/plain": [
       "<Figure size 432x432 with 2 Axes>"
      ]
     },
     "metadata": {
      "needs_background": "light"
     },
     "output_type": "display_data"
    }
   ],
   "source": [
    "# 4. Support Vector Machine\n",
    "\n",
    "svm_cm_plot = plot_confusion_matrix(svm_matrix, \n",
    "                                classes = ['Non-Default(0)','Default(1)'], \n",
    "                                normalize = False, title = 'SVM')\n",
    "plt.savefig('svm_cm_plot.png')\n",
    "plt.show()"
   ]
  },
  {
   "cell_type": "code",
   "execution_count": 24,
   "metadata": {},
   "outputs": [
    {
     "data": {
      "image/png": "[encoded data removed]",
      "text/plain": [
       "<Figure size 432x432 with 2 Axes>"
      ]
     },
     "metadata": {
      "needs_background": "light"
     },
     "output_type": "display_data"
    }
   ],
   "source": [
    "# 5. Random forest tree\n",
    "\n",
    "rf_cm_plot = plot_confusion_matrix(rf_matrix, \n",
    "                                classes = ['Non-Default(0)','Default(1)'], \n",
    "                                normalize = False, title = 'Random Forest Tree')\n",
    "plt.savefig('rf_cm_plot.png')\n",
    "plt.show()"
   ]
  },
  {
   "cell_type": "code",
   "execution_count": null,
   "metadata": {},
   "outputs": [],
   "source": []
  }
 ],
 "metadata": {
  "kernelspec": {
   "display_name": "Python 3",
   "language": "python",
   "name": "python3"
  },
  "language_info": {
   "codemirror_mode": {
    "name": "ipython",
    "version": 3
   },
   "file_extension": ".py",
   "mimetype": "text/x-python",
   "name": "python",
   "nbconvert_exporter": "python",
   "pygments_lexer": "ipython3",
   "version": "3.7.6"
  }
 },
 "nbformat": 4,
 "nbformat_minor": 4
}
